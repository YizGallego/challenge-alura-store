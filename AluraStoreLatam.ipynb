{
  "cells": [
    {
      "cell_type": "markdown",
      "metadata": {
        "id": "RhEdWd9YUR6H"
      },
      "source": [
        "### Importación de datos\n",
        "\n"
      ]
    },
    {
      "cell_type": "code",
      "execution_count": 7,
      "metadata": {
        "colab": {
          "base_uri": "https://localhost:8080/",
          "height": 206
        },
        "id": "T3EvaeQ_INIL",
        "outputId": "e9c5efe1-82a3-43ab-e8d7-6d01e4fa3514"
      },
      "outputs": [
        {
          "name": "stderr",
          "output_type": "stream",
          "text": [
            "/Users/Aracely/Library/Python/3.12/lib/python/site-packages/urllib3/connectionpool.py:1097: InsecureRequestWarning: Unverified HTTPS request is being made to host 'raw.githubusercontent.com'. Adding certificate verification is strongly advised. See: https://urllib3.readthedocs.io/en/latest/advanced-usage.html#tls-warnings\n",
            "  warnings.warn(\n"
          ]
        },
        {
          "name": "stdout",
          "output_type": "stream",
          "text": [
            "Status tienda 1: 404\n",
            "No se pudo cargar tienda 1\n"
          ]
        },
        {
          "name": "stderr",
          "output_type": "stream",
          "text": [
            "/Users/Aracely/Library/Python/3.12/lib/python/site-packages/urllib3/connectionpool.py:1097: InsecureRequestWarning: Unverified HTTPS request is being made to host 'raw.githubusercontent.com'. Adding certificate verification is strongly advised. See: https://urllib3.readthedocs.io/en/latest/advanced-usage.html#tls-warnings\n",
            "  warnings.warn(\n",
            "/Users/Aracely/Library/Python/3.12/lib/python/site-packages/urllib3/connectionpool.py:1097: InsecureRequestWarning: Unverified HTTPS request is being made to host 'raw.githubusercontent.com'. Adding certificate verification is strongly advised. See: https://urllib3.readthedocs.io/en/latest/advanced-usage.html#tls-warnings\n",
            "  warnings.warn(\n",
            "/Users/Aracely/Library/Python/3.12/lib/python/site-packages/urllib3/connectionpool.py:1097: InsecureRequestWarning: Unverified HTTPS request is being made to host 'raw.githubusercontent.com'. Adding certificate verification is strongly advised. See: https://urllib3.readthedocs.io/en/latest/advanced-usage.html#tls-warnings\n",
            "  warnings.warn(\n"
          ]
        }
      ],
      "source": [
        "import requests\n",
        "import pandas as pd\n",
        "from io import StringIO\n",
        "\n",
        "# URLs corregidas\n",
        "url1 = \"https://raw.githubusercontent.com/alura-es-cursos/challenge1-data-science-latam/main/base-de-datos-challenge1-latam/tienda_1.csv\"\n",
        "url2 = \"https://raw.githubusercontent.com/alura-es-cursos/challenge1-data-science-latam/main/base-de-datos-challenge1-latam/tienda_2.csv\"\n",
        "url3 = \"https://raw.githubusercontent.com/alura-es-cursos/challenge1-data-science-latam/main/base-de-datos-challenge1-latam/tienda_3.csv\"\n",
        "url4 = \"https://raw.githubusercontent.com/alura-es-cursos/challenge1-data-science-latam/main/base-de-datos-challenge1-latam/tienda_4.csv\"\n",
        "\n",
        "# Realizamos las peticiones\n",
        "response1 = requests.get(url1, verify=False)\n",
        "response2 = requests.get(url2, verify=False)\n",
        "response3 = requests.get(url3, verify=False)\n",
        "response4 = requests.get(url4, verify=False)\n",
        "\n",
        "print(\"Status tienda 1:\", response1.status_code)\n",
        "\n",
        "# Leer los datos si están disponibles\n",
        "if response1.status_code == 200:\n",
        "    tienda1 = pd.read_csv(StringIO(response1.text), encoding='utf-8', on_bad_lines='skip')\n",
        "    print(tienda1.info())\n",
        "else:\n",
        "    print(\"No se pudo cargar tienda 1\")\n"
      ]
    },
    {
      "cell_type": "markdown",
      "metadata": {
        "id": "X62IW3KFUIYm"
      },
      "source": [
        "#1. Análisis de facturación\n",
        "\n"
      ]
    },
    {
      "cell_type": "code",
      "execution_count": 10,
      "metadata": {
        "id": "xykobSftV64I"
      },
      "outputs": [],
      "source": [
        "def ingreso_total_por_tienda(tienda, tienda2, tienda3, tienda4):\n",
        "    ingreso_tienda1 = tienda['Precio'].sum()\n",
        "    ingreso_tienda2 = tienda2['Precio'].sum()\n",
        "    ingreso_tienda3 = tienda3['Precio'].sum()\n",
        "    ingreso_tienda4 = tienda4['Precio'].sum()\n",
        "    \n",
        "    print(f\"Ingreso total tienda 1: {ingreso_tienda1}\")\n",
        "    print(f\"Ingreso total tienda 2: {ingreso_tienda2}\")\n",
        "    print(f\"Ingreso total tienda 3: {ingreso_tienda3}\")\n",
        "    print(f\"Ingreso total tienda 4: {ingreso_tienda4}\")"
      ]
    },
    {
      "cell_type": "code",
      "execution_count": null,
      "metadata": {
        "id": "KDyr8E71V3m-"
      },
      "outputs": [],
      "source": []
    },
    {
      "cell_type": "markdown",
      "metadata": {
        "id": "2V_vcAPzWZmR"
      },
      "source": [
        "# 2. Ventas por categoría"
      ]
    },
    {
      "cell_type": "code",
      "execution_count": 11,
      "metadata": {
        "id": "A34YupIuYhfF"
      },
      "outputs": [],
      "source": [
        "def ventas_por_categoria(tienda, tienda2, tienda3, tienda4):\n",
        "    ventas_categoria_tienda1 = tienda.groupby('Categoría del Producto')['Precio'].sum()\n",
        "    ventas_categoria_tienda2 = tienda2.groupby('Categoría del Producto')['Precio'].sum()\n",
        "    ventas_categoria_tienda3 = tienda3.groupby('Categoría del Producto')['Precio'].sum()\n",
        "    ventas_categoria_tienda4 = tienda4.groupby('Categoría del Producto')['Precio'].sum()\n",
        "    \n",
        "    print(\"Ventas por categoría tienda 1:\")\n",
        "    print(ventas_categoria_tienda1)\n",
        "    print(\"Ventas por categoría tienda 2:\")\n",
        "    print(ventas_categoria_tienda2)\n",
        "    print(\"Ventas por categoría tienda 3:\")\n",
        "    print(ventas_categoria_tienda3)\n",
        "    print(\"Ventas por categoría tienda 4:\")\n",
        "    print(ventas_categoria_tienda4)"
      ]
    },
    {
      "cell_type": "code",
      "execution_count": null,
      "metadata": {
        "id": "yZR6cOjXYSk1"
      },
      "outputs": [],
      "source": []
    },
    {
      "cell_type": "markdown",
      "metadata": {
        "id": "Rq6tU_xSY3jk"
      },
      "source": [
        "# 3. Calificación promedio de la tienda\n"
      ]
    },
    {
      "cell_type": "code",
      "execution_count": 12,
      "metadata": {
        "id": "bh3jjjJwY5MU"
      },
      "outputs": [],
      "source": [
        "def valoracion_media_por_tienda(tienda, tienda2, tienda3, tienda4):\n",
        "    valoracion_media_tienda1 = tienda.groupby('Vendedor')['Calificación'].mean()\n",
        "    valoracion_media_tienda2 = tienda2.groupby('Vendedor')['Calificación'].mean()\n",
        "    valoracion_media_tienda3 = tienda3.groupby('Vendedor')['Calificación'].mean()\n",
        "    valoracion_media_tienda4 = tienda4.groupby('Vendedor')['Calificación'].mean()\n",
        "    \n",
        "    print(\"Valoración media tienda 1:\")\n",
        "    print(valoracion_media_tienda1)\n",
        "    print(\"Valoración media tienda 2:\")\n",
        "    print(valoracion_media_tienda2)\n",
        "    print(\"Valoración media tienda 3:\")\n",
        "    print(valoracion_media_tienda3)\n",
        "    print(\"Valoración media tienda 4:\")\n",
        "    print(valoracion_media_tienda4)"
      ]
    },
    {
      "cell_type": "code",
      "execution_count": null,
      "metadata": {
        "id": "I0KkjPoTY88F"
      },
      "outputs": [],
      "source": []
    },
    {
      "cell_type": "markdown",
      "metadata": {
        "id": "DmNp1KPBZCm-"
      },
      "source": [
        "# 4. Productos más y menos vendidos"
      ]
    },
    {
      "cell_type": "code",
      "execution_count": 13,
      "metadata": {
        "id": "qoyjqijQZHfF"
      },
      "outputs": [],
      "source": [
        "def productos_vendidos(tienda, tienda2, tienda3, tienda4):\n",
        "    productos_vendidos_tienda1 = tienda.groupby('Producto')['Precio'].sum().sort_values(ascending=False)\n",
        "    productos_vendidos_tienda2 = tienda2.groupby('Producto')['Precio'].sum().sort_values(ascending=False)\n",
        "    productos_vendidos_tienda3 = tienda3.groupby('Producto')['Precio'].sum().sort_values(ascending=False)\n",
        "    productos_vendidos_tienda4 = tienda4.groupby('Producto')['Precio'].sum().sort_values(ascending=False)\n",
        "    \n",
        "    print(\"Productos más vendidos tienda 1:\")\n",
        "    print(productos_vendidos_tienda1.head())\n",
        "    print(\"Productos menos vendidos tienda 1:\")\n",
        "    print(productos_vendidos_tienda1.tail())"
      ]
    },
    {
      "cell_type": "code",
      "execution_count": null,
      "metadata": {
        "id": "0Sw3sd4IZIGW"
      },
      "outputs": [],
      "source": []
    },
    {
      "cell_type": "markdown",
      "metadata": {
        "id": "Fl0cGi3bZKqU"
      },
      "source": [
        "# 5. Envío promedio por tienda"
      ]
    },
    {
      "cell_type": "code",
      "execution_count": 14,
      "metadata": {
        "id": "S2JeaCykZNy9"
      },
      "outputs": [],
      "source": [
        "def valor_envio_promedio(tienda, tienda2, tienda3, tienda4):\n",
        "    envio_promedio_tienda1 = tienda['Costo de envío'].mean()\n",
        "    envio_promedio_tienda2 = tienda2['Costo de envío'].mean()\n",
        "    envio_promedio_tienda3 = tienda3['Costo de envío'].mean()\n",
        "    envio_promedio_tienda4 = tienda4['Costo de envío'].mean()\n",
        "    \n",
        "    print(f\"Valor del envío promedio tienda 1: {envio_promedio_tienda1}\")\n",
        "    print(f\"Valor del envío promedio tienda 2: {envio_promedio_tienda2}\")\n",
        "    print(f\"Valor del envío promedio tienda 3: {envio_promedio_tienda3}\")\n",
        "    print(f\"Valor del envío promedio tienda 4: {envio_promedio_tienda4}\")"
      ]
    },
    {
      "cell_type": "code",
      "execution_count": null,
      "metadata": {
        "id": "0tSdCie9ZQlt"
      },
      "outputs": [],
      "source": []
    }
  ],
  "metadata": {
    "colab": {
      "provenance": []
    },
    "kernelspec": {
      "display_name": "Python 3",
      "name": "python3"
    },
    "language_info": {
      "codemirror_mode": {
        "name": "ipython",
        "version": 3
      },
      "file_extension": ".py",
      "mimetype": "text/x-python",
      "name": "python",
      "nbconvert_exporter": "python",
      "pygments_lexer": "ipython3",
      "version": "3.12.3"
    }
  },
  "nbformat": 4,
  "nbformat_minor": 0
}
